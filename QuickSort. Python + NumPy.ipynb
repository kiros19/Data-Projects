{
 "cells": [
  {
   "cell_type": "code",
   "execution_count": 1,
   "id": "55e2c5dd",
   "metadata": {},
   "outputs": [],
   "source": [
    "import numpy as np\n",
    "import timeit"
   ]
  },
  {
   "cell_type": "markdown",
   "id": "1b4d10c7",
   "metadata": {},
   "source": [
    "# Реализую алгоритм быстрой сортировки с использованием массивов numpy [2] и на чистом питоне [3]. Интересно сравнить скорость"
   ]
  },
  {
   "cell_type": "code",
   "execution_count": 2,
   "id": "75f953d4",
   "metadata": {},
   "outputs": [],
   "source": [
    "def np_quicksort(array):\n",
    "    \n",
    "    if len(array) <= 1:\n",
    "        return array\n",
    "    \n",
    "    pivot = array[0]\n",
    "    left_array = np.empty(0)\n",
    "    right_array = np.empty(0)\n",
    "    \n",
    "    for element in array[1:]:\n",
    "        if element <= pivot:\n",
    "#            left_array = np.hstack([left_array, element])\n",
    "            left_array = np.append(left_array, element)\n",
    "        elif element > pivot:\n",
    "#            right_array = np.hstack([right_array, element])\n",
    "            right_array = np.append(right_array, element)\n",
    "\n",
    "    return np.hstack([np_quicksort(left_array), pivot, np_quicksort(right_array)])"
   ]
  },
  {
   "cell_type": "code",
   "execution_count": 3,
   "id": "713dbe96",
   "metadata": {},
   "outputs": [],
   "source": [
    "def python_quicksort(lst):\n",
    "    \n",
    "    if len(lst) <= 1:\n",
    "        return lst\n",
    "    \n",
    "    pivot = lst[0]\n",
    "    left_list = []\n",
    "    right_list = []\n",
    "    \n",
    "    for element in lst[1:]:\n",
    "        if element <= pivot:\n",
    "            left_list.append(element)\n",
    "        elif element > pivot:\n",
    "            right_list.append(element)\n",
    "    \n",
    "    return python_quicksort(left_list) + [pivot] + python_quicksort(right_list)"
   ]
  },
  {
   "cell_type": "markdown",
   "id": "046725f1",
   "metadata": {},
   "source": [
    "# Протестируем результаты, после чего сравним время выполнения"
   ]
  },
  {
   "cell_type": "code",
   "execution_count": 29,
   "id": "1f7edc7f",
   "metadata": {},
   "outputs": [
    {
     "name": "stdout",
     "output_type": "stream",
     "text": [
      "Тесты успешно пройдены!\n"
     ]
    }
   ],
   "source": [
    "test_size = 1000\n",
    "\n",
    "np_arr = np.random.randint(256, size = test_size, dtype = 'int16')\n",
    "assert np.all(np_quicksort(np_arr) == np.sort(np_arr)), 'Функция np_quicksort вернула неверное значение'\n",
    "np_arr = np.random.randint(256, size = test_size, dtype = 'int16')\n",
    "assert np.all(np_quicksort(np_arr) == np.sort(np_arr)), 'Функция np_quicksort вернула неверное значение'\n",
    "np_arr = np.random.randint(256, size = test_size, dtype = 'int16')\n",
    "assert np.all(np_quicksort(np_arr) == np.sort(np_arr)), 'Функция np_quicksort вернула неверное значение'\n",
    "np_arr = np.random.randint(256, size = test_size, dtype = 'int16')\n",
    "assert np.all(np_quicksort(np_arr) == np.sort(np_arr)), 'Функция np_quicksort вернула неверное значение'\n",
    "np_arr = np.random.randint(256, size = test_size, dtype = 'int16')\n",
    "assert np.all(np_quicksort(np_arr) == np.sort(np_arr)), 'Функция np_quicksort вернула неверное значение'\n",
    "\n",
    "py_lst = [i for i in np.random.randint(256, size = test_size, dtype = 'int16')]\n",
    "assert python_quicksort(py_lst) == list(np.sort(py_lst)), 'Функция np_quicksort вернула неверное значение'\n",
    "py_lst = [i for i in np.random.randint(256, size = test_size, dtype = 'int16')]\n",
    "assert python_quicksort(py_lst) == list(np.sort(py_lst)), 'Функция np_quicksort вернула неверное значение'\n",
    "py_lst = [i for i in np.random.randint(256, size = test_size, dtype = 'int16')]\n",
    "assert python_quicksort(py_lst) == list(np.sort(py_lst)), 'Функция np_quicksort вернула неверное значение'\n",
    "py_lst = [i for i in np.random.randint(256, size = test_size, dtype = 'int16')]\n",
    "assert python_quicksort(py_lst) == list(np.sort(py_lst)), 'Функция np_quicksort вернула неверное значение'\n",
    "py_lst = [i for i in np.random.randint(256, size = test_size, dtype = 'int16')]\n",
    "assert python_quicksort(py_lst) == list(np.sort(py_lst)), 'Функция np_quicksort вернула неверное значение'\n",
    "\n",
    "print('Тесты успешно пройдены!')"
   ]
  },
  {
   "cell_type": "code",
   "execution_count": 27,
   "id": "147d38a9",
   "metadata": {},
   "outputs": [
    {
     "name": "stdout",
     "output_type": "stream",
     "text": [
      "Время выполнения функции, использующей массивы numpy:\n",
      "67.6 ms ± 8.2 ms per loop (mean ± std. dev. of 7 runs, 10 loops each)\n",
      "\n",
      "Время выполнения функции, использующей питоновские листы:\n",
      "1.75 ms ± 103 µs per loop (mean ± std. dev. of 7 runs, 1,000 loops each)\n"
     ]
    }
   ],
   "source": [
    "x_np = np.random.RandomState(34).randint(256, size = 1000, dtype = 'int')\n",
    "\n",
    "x_py = [i for i in x_np]\n",
    "\n",
    "print('Время выполнения функции, использующей массивы numpy:')\n",
    "%timeit np_quicksort(x_np)\n",
    "print('\\nВремя выполнения функции, использующей питоновские листы:')\n",
    "%timeit python_quicksort(x_py)\n",
    "#print('\\nВремя выполнения встроенной сортировки numpy (так же использующей алгоритм квиксорт):')\n",
    "#%timeit np.sort(x_np)"
   ]
  },
  {
   "cell_type": "markdown",
   "id": "6a808810",
   "metadata": {},
   "source": [
    "# Квиксорт, реализованный на списках питона, выполняется на порядок быстрее реализованного на массивах нампи. Сравним второй с сортировщиком, встроенным в numpy:"
   ]
  },
  {
   "cell_type": "code",
   "execution_count": 26,
   "id": "d334560a",
   "metadata": {},
   "outputs": [
    {
     "name": "stdout",
     "output_type": "stream",
     "text": [
      "\n",
      "Время выполнения функции, использующей питоновские листы:\n",
      "1.78 ms ± 84.2 µs per loop (mean ± std. dev. of 7 runs, 1,000 loops each)\n",
      "\n",
      "Время выполнения встроенной сортировки numpy (так же использующей алгоритм квиксорт):\n",
      "20 µs ± 689 ns per loop (mean ± std. dev. of 7 runs, 100,000 loops each)\n"
     ]
    }
   ],
   "source": [
    "x_np = np.random.RandomState(34).randint(256, size = 1000, dtype = 'int')\n",
    "\n",
    "x_py = [i for i in x_np]\n",
    "\n",
    "#print('Время выполнения функции, использующей массивы numpy:')\n",
    "#%timeit np_quicksort(x_np)\n",
    "print('\\nВремя выполнения функции, использующей питоновские листы:')\n",
    "%timeit python_quicksort(x_py)\n",
    "print('\\nВремя выполнения встроенной сортировки numpy (так же использующей алгоритм квиксорт):')\n",
    "%timeit np.sort(x_np)"
   ]
  },
  {
   "cell_type": "markdown",
   "id": "adc1db90",
   "metadata": {},
   "source": [
    "# Встроенная функция выполняется на два порядка быстрее. Увеличим размер входа в 500 раз. "
   ]
  },
  {
   "cell_type": "code",
   "execution_count": 22,
   "id": "8ce29f59",
   "metadata": {},
   "outputs": [
    {
     "name": "stdout",
     "output_type": "stream",
     "text": [
      "\n",
      "Время выполнения функции, использующей питоновские листы:\n",
      "52.5 s ± 1.58 s per loop (mean ± std. dev. of 7 runs, 1 loop each)\n",
      "\n",
      "Время выполнения встроенной сортировки numpy (так же использующей алгоритм квиксорт):\n",
      "23.2 ms ± 1.47 ms per loop (mean ± std. dev. of 7 runs, 10 loops each)\n"
     ]
    }
   ],
   "source": [
    "x_np = np.random.RandomState(34).randint(256, size = 500000, dtype = 'int')\n",
    "\n",
    "x_py = [i for i in x_np]\n",
    "\n",
    "#print('Время выполнения функции, использующей массивы numpy:')\n",
    "#%timeit np_quicksort(x_np)\n",
    "print('\\nВремя выполнения функции, использующей питоновские листы:')\n",
    "%timeit python_quicksort(x_py)\n",
    "print('\\nВремя выполнения встроенной сортировки numpy (так же использующей алгоритм квиксорт):')\n",
    "%timeit np.sort(x_np)"
   ]
  },
  {
   "cell_type": "markdown",
   "id": "460e258c",
   "metadata": {},
   "source": [
    "# Разница скорости достигает трех порядков. При этом оба алгоритма - quicksort'ы с одинаковым О большим - лучшим O(n*log(n)) и худшим O(n**2). Учитывая, что np.sort( ) работает на С++, делаю очевидный вывод:\n",
    "# О большое не стоит использовать для оценки алгоритмов, написанных на разных языках."
   ]
  }
 ],
 "metadata": {
  "kernelspec": {
   "display_name": "Python 3 (ipykernel)",
   "language": "python",
   "name": "python3"
  },
  "language_info": {
   "codemirror_mode": {
    "name": "ipython",
    "version": 3
   },
   "file_extension": ".py",
   "mimetype": "text/x-python",
   "name": "python",
   "nbconvert_exporter": "python",
   "pygments_lexer": "ipython3",
   "version": "3.11.5"
  }
 },
 "nbformat": 4,
 "nbformat_minor": 5
}
